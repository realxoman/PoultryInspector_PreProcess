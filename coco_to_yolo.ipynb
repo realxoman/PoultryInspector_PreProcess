{
 "cells": [
  {
   "cell_type": "code",
   "execution_count": 2,
   "metadata": {},
   "outputs": [
    {
     "name": "stdout",
     "output_type": "stream",
     "text": [
      "Conversion completed! YOLO annotations saved in dataset/output_dir\\labels\n"
     ]
    }
   ],
   "source": [
    "import os\n",
    "import json\n",
    "\n",
    "# Paths\n",
    "coco_json_path = \"dataset/annotations/instances_Train.json\"  # Path to COCO JSON file\n",
    "output_dir = \"dataset/output_dir\"               # Directory to save YOLO annotations\n",
    "images_dir = \"dataset/images\"                   # Directory where images are stored\n",
    "\n",
    "# Create output directory for labels\n",
    "labels_dir = os.path.join(output_dir, \"labels\")\n",
    "os.makedirs(labels_dir, exist_ok=True)\n",
    "\n",
    "# Load COCO JSON\n",
    "with open(coco_json_path, \"r\") as f:\n",
    "    coco_data = json.load(f)\n",
    "\n",
    "# Categories (class mapping)\n",
    "categories = {cat[\"id\"]: cat[\"name\"] for cat in coco_data[\"categories\"]}\n",
    "\n",
    "# Convert COCO to YOLO format\n",
    "for annotation in coco_data[\"annotations\"]:\n",
    "    image_id = annotation[\"image_id\"]\n",
    "    category_id = annotation[\"category_id\"]\n",
    "    bbox = annotation[\"bbox\"]  # COCO format: [x, y, width, height]\n",
    "    image_info = next((img for img in coco_data[\"images\"] if img[\"id\"] == image_id), None)\n",
    "\n",
    "    if not image_info:\n",
    "        continue\n",
    "\n",
    "    # Get image dimensions\n",
    "    image_width = image_info[\"width\"]\n",
    "    image_height = image_info[\"height\"]\n",
    "\n",
    "    # Convert bbox to YOLO format\n",
    "    x_center = (bbox[0] + bbox[2] / 2) / image_width\n",
    "    y_center = (bbox[1] + bbox[3] / 2) / image_height\n",
    "    width = bbox[2] / image_width\n",
    "    height = bbox[3] / image_height\n",
    "\n",
    "    # Prepare YOLO annotation line\n",
    "    yolo_line = f\"{category_id - 1} {x_center:.6f} {y_center:.6f} {width:.6f} {height:.6f}\\n\"\n",
    "\n",
    "    # Save to YOLO annotation file\n",
    "    label_file = os.path.join(labels_dir, f\"{image_info['file_name'].replace('.jpg', '.txt')}\")\n",
    "    with open(label_file, \"a\") as f:\n",
    "        f.write(yolo_line)\n",
    "\n",
    "print(f\"Conversion completed! YOLO annotations saved in {labels_dir}\")\n"
   ]
  }
 ],
 "metadata": {
  "kernelspec": {
   "display_name": "venv",
   "language": "python",
   "name": "python3"
  },
  "language_info": {
   "codemirror_mode": {
    "name": "ipython",
    "version": 3
   },
   "file_extension": ".py",
   "mimetype": "text/x-python",
   "name": "python",
   "nbconvert_exporter": "python",
   "pygments_lexer": "ipython3",
   "version": "3.11.5"
  }
 },
 "nbformat": 4,
 "nbformat_minor": 2
}
